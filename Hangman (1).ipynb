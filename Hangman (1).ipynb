{
 "cells": [
  {
   "cell_type": "code",
   "execution_count": 8,
   "metadata": {},
   "outputs": [
    {
     "name": "stdout",
     "output_type": "stream",
     "text": [
      "Guess a letter h\n",
      "correct guess\n",
      "['h', '_', '_', '_', '_']\n",
      "Guess a letter e\n",
      "correct guess\n",
      "['h', 'e', '_', '_', '_']\n",
      "Guess a letter l\n",
      "correct guess\n",
      "['h', 'e', 'l', '_', '_']\n",
      "correct guess\n",
      "['h', 'e', 'l', 'l', '_']\n",
      "Guess a letter o\n",
      "correct guess\n",
      "['h', 'e', 'l', 'l', 'o']\n",
      "You win\n",
      "hello\n"
     ]
    },
    {
     "data": {
      "text/plain": [
       "'hello'"
      ]
     },
     "execution_count": 8,
     "metadata": {},
     "output_type": "execute_result"
    }
   ],
   "source": [
    "def hangman(string):\n",
    "    lives = 5\n",
    "    \n",
    "    t = [i for i in string]\n",
    "    new_word = ['_' for i in string]\n",
    "    \n",
    "    while lives > 0:\n",
    "        guess = input('Guess a letter ')\n",
    "        \n",
    "        if len(guess) != 1:\n",
    "            print('You have exceeded the limit of characters')\n",
    "            break\n",
    "        \n",
    "        for i in range(len(string)):\n",
    "            if string[i] == guess:\n",
    "                print('correct guess')\n",
    "                new_word[i] = guess\n",
    "                print(new_word)\n",
    "        \n",
    "        if t == new_word:\n",
    "            print('You win')\n",
    "            print(''.join(new_word))\n",
    "            break\n",
    "\n",
    "                \n",
    "                \n",
    "        if string.find(guess) == -1:\n",
    "            print('incorrect guess')\n",
    "            print(lives)\n",
    "            lives = lives - 1\n",
    "            \n",
    "    if lives == 0:\n",
    "        print('Game over')\n",
    "    \n",
    "\n",
    "    return ''.join(new_word)\n",
    "\n",
    "hangman('hello')"
   ]
  },
  {
   "cell_type": "code",
   "execution_count": 7,
   "metadata": {
    "collapsed": true
   },
   "outputs": [
    {
     "data": {
      "text/plain": [
       "3"
      ]
     },
     "execution_count": 7,
     "metadata": {},
     "output_type": "execute_result"
    }
   ],
   "source": []
  },
  {
   "cell_type": "code",
   "execution_count": null,
   "metadata": {},
   "outputs": [],
   "source": []
  }
 ],
 "metadata": {
  "kernelspec": {
   "display_name": "Python 3",
   "language": "python",
   "name": "python3"
  },
  "language_info": {
   "codemirror_mode": {
    "name": "ipython",
    "version": 3
   },
   "file_extension": ".py",
   "mimetype": "text/x-python",
   "name": "python",
   "nbconvert_exporter": "python",
   "pygments_lexer": "ipython3",
   "version": "3.8.3"
  }
 },
 "nbformat": 4,
 "nbformat_minor": 4
}
